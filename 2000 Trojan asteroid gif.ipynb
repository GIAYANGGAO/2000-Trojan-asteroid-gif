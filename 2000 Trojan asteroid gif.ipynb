{
 "cells": [
  {
   "cell_type": "code",
   "execution_count": 1,
   "id": "1cd1d495",
   "metadata": {},
   "outputs": [],
   "source": [
    "import rebound\n",
    "import numpy as np\n",
    "import matplotlib.pyplot as plt\n",
    "import matplotlib.animation as animation"
   ]
  },
  {
   "cell_type": "code",
   "execution_count": 2,
   "id": "1c1b905f",
   "metadata": {},
   "outputs": [],
   "source": [
    "def setup_simulation(num_asteroids=1000):\n",
    "    sim = rebound.Simulation()\n",
    "\n",
    "    # Add the Sun and Jupiter\n",
    "    sim.add(m=1.0)  # Sun\n",
    "    sim.add(m=1.0 / 1047.0, a=5.2, e=0.048)  # Jupiter\n",
    "\n",
    "    # Add 1000 Trojan asteroids in the L4 region\n",
    "    for _ in range(num_asteroids):\n",
    "        a = 5.2\n",
    "        e = np.random.uniform(0.0, 0.05)\n",
    "        f = np.random.uniform(np.pi / 3.0 - 0.1, np.pi / 3.0 + 0.1)\n",
    "        sim.add(a=a, e=e, f=f)\n",
    "\n",
    "    # Add 1000 Trojan asteroids in the L5 region\n",
    "    for _ in range(num_asteroids):\n",
    "        a = 5.2\n",
    "        e = np.random.uniform(0.0, 0.05)\n",
    "        f = np.random.uniform(5 * np.pi / 3.0 - 0.1, 5 * np.pi / 3.0 + 0.1)\n",
    "        sim.add(a=a, e=e, f=f)\n",
    "\n",
    "    # Set the simulation parameters\n",
    "    sim.move_to_com()  # Move to the center of mass frame\n",
    "    sim.integrator = \"ias15\"  # Set the integrator\n",
    "    sim.dt = sim.particles[1].P / 100  # Set the time step\n",
    "\n",
    "    return sim"
   ]
  },
  {
   "cell_type": "code",
   "execution_count": 3,
   "id": "51e60e1e",
   "metadata": {},
   "outputs": [],
   "source": [
    "def update_plot(i, sim, scat):\n",
    "    sim.integrate(times[i])\n",
    "    x = [p.x for p in sim.particles]\n",
    "    y = [p.y for p in sim.particles]\n",
    "    scat.set_offsets(np.column_stack((x, y)))\n",
    "    return scat,"
   ]
  },
  {
   "cell_type": "code",
   "execution_count": 4,
   "id": "def95ed4",
   "metadata": {},
   "outputs": [],
   "source": [
    "def generate_gif(sim, times):\n",
    "    fig, ax = plt.subplots(figsize=(8, 8))\n",
    "    x = [p.x for p in sim.particles]\n",
    "    y = [p.y for p in sim.particles]\n",
    "    colors = ['orange', 'red'] + ['blue'] * (len(sim.particles) - 2)\n",
    "    sizes = [100, 50] + [5] * (len(sim.particles) - 2)\n",
    "    scat = ax.scatter(x, y, c=colors, s=sizes)\n",
    "    ax.set_xlim(-6, 6)\n",
    "    ax.set_ylim(-6, 6)\n",
    "    ax.set_xlabel(\"x [AU]\")\n",
    "    ax.set_ylabel(\"y [AU]\")\n",
    "    ax.set_title(\"Sun-Jupiter-2000 Trojan Asteroids System\")\n",
    "\n",
    "    ani = animation.FuncAnimation(fig, update_plot, frames=len(times), fargs=(sim, scat), interval=50, blit=True)\n",
    "    ani.save(\"2000_trojan_asteroids.gif\", writer=\"imagemagick\")\n",
    "    plt.close(fig)"
   ]
  },
  {
   "cell_type": "code",
   "execution_count": null,
   "id": "2c007f2a",
   "metadata": {},
   "outputs": [
    {
     "name": "stderr",
     "output_type": "stream",
     "text": [
      "MovieWriter imagemagick unavailable; using Pillow instead.\n"
     ]
    }
   ],
   "source": [
    "if __name__ == \"__main__\":\n",
    "    sim = setup_simulation()\n",
    "    num_years = 10\n",
    "    num_steps = 1000\n",
    "    times = np.linspace(0, num_years * 2 * np.pi, num_steps)\n",
    "    generate_gif(sim, times)"
   ]
  },
  {
   "cell_type": "code",
   "execution_count": null,
   "id": "66a0a264",
   "metadata": {},
   "outputs": [],
   "source": []
  }
 ],
 "metadata": {
  "kernelspec": {
   "display_name": "Python 3 (ipykernel)",
   "language": "python",
   "name": "python3"
  },
  "language_info": {
   "codemirror_mode": {
    "name": "ipython",
    "version": 3
   },
   "file_extension": ".py",
   "mimetype": "text/x-python",
   "name": "python",
   "nbconvert_exporter": "python",
   "pygments_lexer": "ipython3",
   "version": "3.9.2"
  }
 },
 "nbformat": 4,
 "nbformat_minor": 5
}
